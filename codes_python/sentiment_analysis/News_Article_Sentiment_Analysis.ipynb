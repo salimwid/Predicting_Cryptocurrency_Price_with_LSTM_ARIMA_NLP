{
 "cells": [
  {
   "cell_type": "code",
   "execution_count": 1,
   "id": "a7ad0b9b",
   "metadata": {},
   "outputs": [
    {
     "name": "stderr",
     "output_type": "stream",
     "text": [
      "[nltk_data] Downloading package vader_lexicon to C:\\Users\\Cheng\n",
      "[nltk_data]     An\\AppData\\Roaming\\nltk_data...\n",
      "[nltk_data]   Package vader_lexicon is already up-to-date!\n"
     ]
    },
    {
     "data": {
      "text/plain": [
       "True"
      ]
     },
     "execution_count": 1,
     "metadata": {},
     "output_type": "execute_result"
    }
   ],
   "source": [
    "import datetime\n",
    "import numpy as np\n",
    "import pandas as pd\n",
    "import matplotlib.pyplot as plt\n",
    "import datetime as dt\n",
    "import re\n",
    "import nltk\n",
    "from nltk.sentiment.vader import SentimentIntensityAnalyzer\n",
    "import snscrape.modules.twitter as sntwitter\n",
    "from textblob import TextBlob\n",
    "nltk.download('vader_lexicon')"
   ]
  },
  {
   "cell_type": "markdown",
   "id": "1c6d7494",
   "metadata": {},
   "source": [
    "# Create a dataframe for the scrape news article "
   ]
  },
  {
   "cell_type": "code",
   "execution_count": 3,
   "id": "c5b33102",
   "metadata": {},
   "outputs": [
    {
     "name": "stdout",
     "output_type": "stream",
     "text": [
      "         date                                              Title  \\\n",
      "0  2018-03-05  Ripple Price Rises as new Fake Coinbase Listin...   \n",
      "1  2018-01-14  ETH Blockchain Processes Over $23B in Transact...   \n",
      "2  2018-01-07  Bitcoin Cash Price Weekly Analysis – Can BCH/U...   \n",
      "3  2018-01-04  Bitcoin Gold Technical Analysis – BTG/USD to D...   \n",
      "4  2018-07-10  Cryptocurrency Market Update: ‘Ethereum Killer...   \n",
      "\n",
      "                                                Text  year          author  \\\n",
      "0   There are always interesting developments to ...  2018      JP Buntinx   \n",
      "1   Comparing different blockchain-based ecosyste...  2018      JP Buntinx   \n",
      "2   Key PointsBitcoin cash price is struggling to...  2018   Aayush Jindal   \n",
      "3   Key PointsBitcoin gold price failed to move a...  2018   Aayush Jindal   \n",
      "4   FOMO MomentsAnother red day in crypto land, E...  2018    Martin Young   \n",
      "\n",
      "  category   source  \n",
      "0  altcoin  newsbtc  \n",
      "1  altcoin  newsbtc  \n",
      "2  altcoin  newsbtc  \n",
      "3  altcoin  newsbtc  \n",
      "4  altcoin  newsbtc  \n"
     ]
    }
   ],
   "source": [
    "df = pd.read_csv('news_datasets_dated.csv',keep_default_na=False)\n",
    "print(df.head())\n"
   ]
  },
  {
   "cell_type": "markdown",
   "id": "3025d17b",
   "metadata": {},
   "source": [
    "# Sentiment Analysis\n",
    "\n",
    "# NLTK"
   ]
  },
  {
   "cell_type": "code",
   "execution_count": 6,
   "id": "b8c9221f",
   "metadata": {},
   "outputs": [],
   "source": [
    "def percentage(part,whole):\n",
    "    return 100 * float(part)/float(whole)\n",
    "\n",
    "# NLTK\n",
    "\n",
    "def apply_analysis(tweet):\n",
    "    return SentimentIntensityAnalyzer().polarity_scores(tweet)\n",
    "# Article Text\n",
    "text = df\n",
    "text[['neg','neu','pos','compound']] = df['Text'].apply(apply_analysis).apply(pd.Series)\n",
    "# Article Title\n",
    "title = df\n",
    "title[['neg','neu','pos','compound']] = df['Title'].apply(apply_analysis).apply(pd.Series)\n",
    "\n",
    "def sentimental_analysis(df):\n",
    "    if df['neg'] > df['pos']:\n",
    "        return 'Negative'\n",
    "    elif df['pos'] > df['neg']:\n",
    "        return 'Positive'\n",
    "    elif df['pos'] == df['neg']:\n",
    "        return 'Neutral'\n",
    "\n",
    "text['Sentiment_NLTK'] = text.apply(sentimental_analysis, axis = 1)\n",
    "title['Sentiment_NLTK'] = title.apply(sentimental_analysis, axis = 1)"
   ]
  },
  {
   "cell_type": "markdown",
   "id": "54ed9cbe",
   "metadata": {},
   "source": [
    "# TextBlob"
   ]
  },
  {
   "cell_type": "code",
   "execution_count": 7,
   "id": "41d90c4f",
   "metadata": {},
   "outputs": [],
   "source": [
    "def getSubjectivity(twt):\n",
    "    return TextBlob(twt).sentiment.subjectivity\n",
    "def getPolarity(twt):\n",
    "    return TextBlob(twt).sentiment.polarity\n",
    "def getSentiment(score):\n",
    "    if score<0:\n",
    "        return 'Negative'\n",
    "    elif score==0:\n",
    "        return 'Neutral'\n",
    "    else:\n",
    "        return 'Positive'\n",
    "    \n",
    "text['Subjectivity']=text['Text'].apply(getSubjectivity)\n",
    "text['Polarity']=text['Text'].apply(getPolarity)    \n",
    "text['Sentiment_TB']=text['Polarity'].apply(getSentiment)\n",
    "\n",
    "title['Subjectivity']=title['Title'].apply(getSubjectivity)\n",
    "title['Polarity']=title['Title'].apply(getPolarity)    \n",
    "title['Sentiment_TB']=title['Polarity'].apply(getSentiment)\n",
    "\n"
   ]
  },
  {
   "cell_type": "markdown",
   "id": "62ebac6c",
   "metadata": {},
   "source": [
    "Save dataframe as CSV"
   ]
  },
  {
   "cell_type": "code",
   "execution_count": 8,
   "id": "ef833b50",
   "metadata": {},
   "outputs": [
    {
     "name": "stdout",
     "output_type": "stream",
     "text": [
      "Done\n"
     ]
    }
   ],
   "source": [
    "text.to_csv('news_datasets_text.csv', encoding='utf-8-sig',index= False)\n",
    "title.to_csv('news_datasets_title.csv', encoding='utf-8-sig',index= False)\n",
    "\n",
    "print('Done')"
   ]
  },
  {
   "cell_type": "code",
   "execution_count": null,
   "id": "fe071078",
   "metadata": {},
   "outputs": [],
   "source": []
  }
 ],
 "metadata": {
  "kernelspec": {
   "display_name": "Python 3 (ipykernel)",
   "language": "python",
   "name": "python3"
  },
  "language_info": {
   "codemirror_mode": {
    "name": "ipython",
    "version": 3
   },
   "file_extension": ".py",
   "mimetype": "text/x-python",
   "name": "python",
   "nbconvert_exporter": "python",
   "pygments_lexer": "ipython3",
   "version": "3.9.6"
  }
 },
 "nbformat": 4,
 "nbformat_minor": 5
}

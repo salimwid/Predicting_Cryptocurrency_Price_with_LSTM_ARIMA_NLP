{
 "cells": [
  {
   "cell_type": "code",
   "execution_count": 1,
   "id": "292e877a",
   "metadata": {},
   "outputs": [],
   "source": [
    "import pandas as pd"
   ]
  },
  {
   "cell_type": "markdown",
   "id": "675ae84a",
   "metadata": {},
   "source": [
    "# News Article"
   ]
  },
  {
   "cell_type": "code",
   "execution_count": 2,
   "id": "e6e164b4",
   "metadata": {},
   "outputs": [
    {
     "name": "stdout",
     "output_type": "stream",
     "text": [
      "         date  year          author category   source    neg    neu  pos  \\\n",
      "0  2018-03-05  2018      JP Buntinx  altcoin  newsbtc  0.256  0.744  0.0   \n",
      "1  2018-01-14  2018      JP Buntinx  altcoin  newsbtc  0.000  1.000  0.0   \n",
      "2  2018-01-07  2018   Aayush Jindal  altcoin  newsbtc  0.000  1.000  0.0   \n",
      "3  2018-01-04  2018   Aayush Jindal  altcoin  newsbtc  0.000  1.000  0.0   \n",
      "4  2018-07-10  2018    Martin Young  altcoin  newsbtc  0.391  0.609  0.0   \n",
      "\n",
      "   compound Sentiment_NLTK  Subjectivity  Polarity Sentiment_TB  \n",
      "0   -0.4767       Negative      0.727273 -0.181818     Negative  \n",
      "1    0.0000        Neutral      0.250000 -0.250000     Negative  \n",
      "2    0.0000        Neutral      0.000000  0.000000      Neutral  \n",
      "3    0.0000        Neutral      0.300000  0.000000      Neutral  \n",
      "4   -0.6705       Negative      0.000000 -0.200000     Negative  \n"
     ]
    }
   ],
   "source": [
    "column = ['date','Title','Text','year','author','category','source','neg','neu','pos'\n",
    "          ,'compound','Sentiment_NLTK','Subjectivity','Polarity','Sentiment_TB']\n",
    "\n",
    "news_text = pd.read_csv('news_datasets_text.csv',keep_default_na=False)\n",
    "news_title = pd.read_csv('news_datasets_title.csv',keep_default_na=False)\n",
    "\n",
    "news_text = news_text.drop(columns=['Title'])\n",
    "news_title = news_text.drop(columns=['Text'])\n",
    "news_title = news_title.rename(columns={\"Title\": \"Text\"})\n",
    "print(news_title.head())"
   ]
  },
  {
   "cell_type": "markdown",
   "id": "bf8f39bd",
   "metadata": {},
   "source": [
    "# Twitter Tweets "
   ]
  },
  {
   "cell_type": "code",
   "execution_count": 3,
   "id": "b2811ebd",
   "metadata": {},
   "outputs": [],
   "source": [
    "twitter_news = pd.read_csv('News_Station.csv',keep_default_na=False)\n",
    "twitter_news = twitter_news.rename(columns={\"Datetime\": \"date\",'Username' : \"author\"})\n",
    "twitter_news['source'] = 'twitter'\n",
    "twitter_news['category'] = 'bitcoin'\n",
    "twitter_news = twitter_news.drop(columns=['Tweet Id'])\n",
    "\n",
    "twitter_influential = pd.read_csv('Influential_People.csv',keep_default_na=False)\n",
    "twitter_influential = twitter_influential.rename(columns={\"Datetime\": \"date\",'Username' : \"author\"})\n",
    "twitter_influential['source'] = 'twitter'\n",
    "twitter_influential['category'] = 'bitcoin'\n",
    "twitter_influential = twitter_influential.drop(columns=['Tweet Id'])\n"
   ]
  },
  {
   "cell_type": "markdown",
   "id": "e61de2fa",
   "metadata": {},
   "source": [
    "# Merging News Article with Twitter Tweets"
   ]
  },
  {
   "cell_type": "code",
   "execution_count": 5,
   "id": "2c8f366a",
   "metadata": {},
   "outputs": [
    {
     "name": "stdout",
     "output_type": "stream",
     "text": [
      "                  date                                               Text  \\\n",
      "0           2018-03-05   There are always interesting developments to ...   \n",
      "1           2018-01-14   Comparing different blockchain-based ecosyste...   \n",
      "2           2018-01-07   Key PointsBitcoin cash price is struggling to...   \n",
      "3           2018-01-04   Key PointsBitcoin gold price failed to move a...   \n",
      "4           2018-07-10   FOMO MomentsAnother red day in crypto land, E...   \n",
      "...                ...                                                ...   \n",
      "26347  22/10/2014 7:17    Meanwhile, Bitcoin is up 99.99% of the time.      \n",
      "26348  21/10/2014 4:58  2/ Compare &amp; contrast how math does it for...   \n",
      "26349  21/10/2014 4:37  Bitcoin requires collusion of chip power to de...   \n",
      "26350  17/10/2014 6:47     Bitcoin works great.  Web sites like Mt. Go...   \n",
      "26351  16/6/2014 11:21           Best computer science paper on Bitcoin:    \n",
      "\n",
      "         year          author category   source    neg    neu    pos  \\\n",
      "0      2018.0      JP Buntinx  altcoin  newsbtc  0.256  0.744  0.000   \n",
      "1      2018.0      JP Buntinx  altcoin  newsbtc  0.000  1.000  0.000   \n",
      "2      2018.0   Aayush Jindal  altcoin  newsbtc  0.000  1.000  0.000   \n",
      "3      2018.0   Aayush Jindal  altcoin  newsbtc  0.000  1.000  0.000   \n",
      "4      2018.0    Martin Young  altcoin  newsbtc  0.391  0.609  0.000   \n",
      "...       ...             ...      ...      ...    ...    ...    ...   \n",
      "26347     NaN      NickSzabo4  bitcoin  twitter  0.000  1.000  0.000   \n",
      "26348     NaN      NickSzabo4  bitcoin  twitter  0.000  1.000  0.000   \n",
      "26349     NaN      NickSzabo4  bitcoin  twitter  0.286  0.714  0.000   \n",
      "26350     NaN      NickSzabo4  bitcoin  twitter  0.000  0.645  0.355   \n",
      "26351     NaN      NickSzabo4  bitcoin  twitter  0.000  0.543  0.457   \n",
      "\n",
      "       compound Sentiment_NLTK  Subjectivity  Polarity Sentiment_TB  \n",
      "0       -0.4767       Negative      0.727273 -0.181818     Negative  \n",
      "1        0.0000        Neutral      0.250000 -0.250000     Negative  \n",
      "2        0.0000        Neutral      0.000000  0.000000      Neutral  \n",
      "3        0.0000        Neutral      0.300000  0.000000      Neutral  \n",
      "4       -0.6705       Negative      0.000000 -0.200000     Negative  \n",
      "...         ...            ...           ...       ...          ...  \n",
      "26347    0.0000        Neutral      0.000000  0.000000      Neutral  \n",
      "26348    0.0000        Neutral      0.000000  0.000000      Neutral  \n",
      "26349   -0.7506       Negative      0.411111  0.188889     Positive  \n",
      "26350    0.7717       Positive      0.750000  0.800000     Positive  \n",
      "26351    0.6369       Positive      0.300000  1.000000     Positive  \n",
      "\n",
      "[74787 rows x 14 columns]\n"
     ]
    }
   ],
   "source": [
    "#merge = [news_text,news_title,twitter_news,twitter_influential]\n",
    "merge = [news_text,twitter_news,twitter_influential]\n",
    "merged_df = pd.concat(merge)\n",
    "merged_df.to_csv('Merged_Sentimental_Analysis_Without_Title.csv', encoding='utf-8-sig' ,index= False)\n",
    "print(merged_df)"
   ]
  },
  {
   "cell_type": "code",
   "execution_count": null,
   "id": "dce4a1b8",
   "metadata": {},
   "outputs": [],
   "source": []
  }
 ],
 "metadata": {
  "kernelspec": {
   "display_name": "Python 3 (ipykernel)",
   "language": "python",
   "name": "python3"
  },
  "language_info": {
   "codemirror_mode": {
    "name": "ipython",
    "version": 3
   },
   "file_extension": ".py",
   "mimetype": "text/x-python",
   "name": "python",
   "nbconvert_exporter": "python",
   "pygments_lexer": "ipython3",
   "version": "3.9.6"
  }
 },
 "nbformat": 4,
 "nbformat_minor": 5
}

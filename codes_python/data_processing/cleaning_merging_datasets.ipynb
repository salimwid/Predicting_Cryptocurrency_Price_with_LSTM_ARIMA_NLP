{
 "cells": [
  {
   "cell_type": "raw",
   "id": "8b39bdd3",
   "metadata": {},
   "source": [
    "### Note on Column Names\n",
    "\n",
    "#### Averaged out from data from 5 top exchanges: Coinbase, Binance, FTX, Huobi and KuCoin:\n",
    "Column names:\n",
    "'open_x', 'close_x'\n",
    "'high_x', 'low_x'\n",
    "'Basis_x': Bollinger Band Limits\n",
    "'Volume_x' : Market Volume\n",
    "'RSI_x' : RSI\n",
    "'MACD_x' : Moving Average Convergence Divergence\n",
    "'OnBalanceVolume_x' : OBV Momentum\n",
    "\n",
    "#### Averaged out from Open & Close values:\n",
    "'btc_dom' : BTC Market Dominance\n",
    "'eth_dom' : ETH Market Dominance\n",
    "'crypto_cap' : Crypto Cap Volume w/ BTC\n",
    "'crypto_cap_exc_BTC' : Crypto Cap Volume w/ BTC\n",
    "'btc_reward' : BTC Mining Reward\n",
    "\n",
    "#### Averaged out from assets datasets:\n",
    "'silver_mean' : Silver price mean\n",
    "'sp500_mean' : SP500 index\n",
    "'vix_mean' : VIX index/volatility\n",
    "'gold_mean' : Gold price mean\n",
    "'oil_mean' : Crude oil price mean\n",
    "\n",
    "#### BTC S2F datasets:\n",
    "'btc_s2f' : BTC S2F Index\n",
    "'btc_s2f_price' : Price based on BTC S2F model\n",
    "\n",
    "#### NLP datasets:\n",
    "'nlp_compound' : Compounded sentiment for the day\n",
    "'nlp_subjectivity' : ?\n",
    "'nlp_polarity' : ?\n",
    "\n",
    "#### Fear and Greed index datasets:\n",
    "'sentiment_dummies' : 5 sentiment dummies created to represent the different sentiments (Extreme Fear, Fear, Neutral, Greed, Extreme Greed - see below)\n",
    "sentiment_Extreme Fear, sentiment_Extreme Greed, sentiment_Fear, sentiment_Greed, sentiment_Neutral\n",
    "\n",
    "Note: Drop one dummy when incorporating to a model!"
   ]
  },
  {
   "cell_type": "code",
   "execution_count": 1,
   "id": "8e8cffdf",
   "metadata": {},
   "outputs": [],
   "source": [
    "# Math\n",
    "import numpy as np\n",
    "import pandas as pd\n",
    "from math import e\n",
    "\n",
    "# Graphing\n",
    "import matplotlib.pyplot as plt\n",
    "import seaborn as sns\n",
    "\n",
    "# Datetime converter\n",
    "from datetime import datetime"
   ]
  },
  {
   "cell_type": "code",
   "execution_count": 2,
   "id": "a9c9adda",
   "metadata": {},
   "outputs": [],
   "source": [
    "# Read Datasets\n",
    "\n",
    "# 1 Day Crypto Exchanges\n",
    "exchanges = ['COINBASE', 'BINANCE', 'FTX', 'HUOBI', 'KUCOIN']\n",
    "exchanges_cols = {1:['open_x', 'high_x', 'low_x', 'close_x', 'Basis_x', 'Volume_x', 'RSI_x', 'MACD_x', 'OnBalanceVolume_x'], 2:['open_y', 'high_y', 'low_y', 'close_y', 'Basis_y', 'Volume_y', 'RSI_y', 'MACD_y', 'OnBalanceVolume_y']}\n",
    "\n",
    "# Open df\n",
    "for exchange in exchanges:\n",
    "    file_str_1D = 'datasets/{}_BTCUSDT, 1D.csv'.format(exchange)\n",
    "    df = pd.read_csv(file_str_1D)\n",
    "    \n",
    "    # Remove irrelevant columns\n",
    "    df.drop(['Signal', 'Volume MA', 'Histogram', 'Upper', 'Lower'], axis=1, inplace = True)\n",
    "    \n",
    "    if exchange == 'COINBASE':\n",
    "        merge_df = df\n",
    "        \n",
    "    else:   \n",
    "        if exchange != 'BINANCE':\n",
    "            # Rename columns before merging to avoid autonaming\n",
    "            keep_same = ['time']\n",
    "            df.columns = ['{}{}'.format(c, '' if c in keep_same else '_y') for c in df.columns]\n",
    "        \n",
    "        # Merge df\n",
    "        merge_df = pd.merge(merge_df, df, on = 'time', how = 'outer')\n",
    "        \n",
    "        # Take mean of columns, drop processed column and rename to avoid autonaming for next loop\n",
    "        for i in range(len(exchanges_cols[1])):\n",
    "            merge_df[exchanges_cols[1][i]+'y'] = merge_df[[exchanges_cols[1][i], exchanges_cols[2][i]]].mean(axis = 1)\n",
    "            merge_df.drop([exchanges_cols[1][i], exchanges_cols[2][i]], axis = 1, inplace = True)\n",
    "            merge_df = merge_df.rename(columns={exchanges_cols[1][i]+'y': exchanges_cols[1][i]})\n",
    "\n",
    "            \n",
    "others = ['CRYPTOCAP_BTC.D', 'CRYPTOCAP_ETH.D', 'CRYPTOCAP_TOTAL', 'CRYPTOCAP_TOTAL2', 'BCHAIN_MIREV']\n",
    "\n",
    "# Looping and taking mean of other variables\n",
    "for other in others:\n",
    "    file_str_1D = 'datasets/{}, 1D.csv'.format(other)\n",
    "    df = pd.read_csv(file_str_1D)[['time','open', 'close']]\n",
    "    df[other + '_mean'] = df[['open', 'close']].mean(axis = 1)\n",
    "    df = df[['time', other + '_mean']]\n",
    "    # Merge with main df\n",
    "    merge_df = pd.merge(merge_df, df, on = 'time', how = 'inner')\n",
    "\n",
    "# Convert unix timestamp to datetime\n",
    "merge_df['time'] = pd.to_datetime(merge_df['time'], unit = 's')\n",
    "merge_df['time'] = pd.to_datetime(merge_df['time']).dt.date\n",
    "\n",
    "merge_df = merge_df.rename(columns={'CRYPTOCAP_BTC.D_mean': 'btc_dom', 'CRYPTOCAP_ETH.D_mean': 'eth_dom', 'CRYPTOCAP_TOTAL_mean' : 'crypto_cap', 'CRYPTOCAP_TOTAL2_mean' : 'crypto_cap_exc_BTC', 'BCHAIN_MIREV_mean' : 'btc_reward'})"
   ]
  },
  {
   "cell_type": "code",
   "execution_count": 4,
   "id": "b475ce2e",
   "metadata": {},
   "outputs": [],
   "source": [
    "# Merging with assets datasets\n",
    "\n",
    "assets = ['CURRENCYCOM_SILVER', 'SP_SPX', 'TVC_VIX', 'CURRENCYCOM_GOLD', 'TVC_USOIL']\n",
    "\n",
    "for asset in assets:\n",
    "    file_str_1D = 'datasets/{}, 1D.csv'.format(asset)\n",
    "    df = pd.read_csv(file_str_1D)[['time','open', 'close']]\n",
    "    df[asset + '_mean'] = df[['open', 'close']].mean(axis = 1)\n",
    "    df = df[['time', asset + '_mean']]\n",
    "    \n",
    "    # Convert to timestamp\n",
    "    df['time'] = pd.to_datetime(df['time'], unit='s')\n",
    "    df['time'] = pd.to_datetime(df['time']).dt.date\n",
    "    \n",
    "    # Merge with main df\n",
    "    merge_df = pd.merge(merge_df, df, on = 'time', how = 'left')\n",
    "\n",
    "merge_df = merge_df.rename(columns={'CURRENCYCOM_SILVER_mean': 'silver_mean', 'SP_SPX_mean': 'sp500_mean', 'TVC_VIX_mean' : 'vix_mean', 'CURRENCYCOM_GOLD_mean' : 'gold_mean', 'TVC_USOIL_mean' : 'crude_oil'})\n"
   ]
  },
  {
   "cell_type": "code",
   "execution_count": 9,
   "id": "c435e5d6",
   "metadata": {},
   "outputs": [],
   "source": [
    "# Merging with S2F datasets\n",
    "\n",
    "df = pd.read_csv('btc.csv')[['date','BlkCnt', 'SplyCur']]\n",
    "df['total_block'] = df['BlkCnt'].cumsum()\n",
    "df['btc_s2f'] = df['SplyCur']/(df['SplyCur'].diff()*365)\n",
    "df['btc_s2f_price'] = e**(-1.84)*(df['btc_s2f']**3.36)\n",
    "df.rename(columns = {'date' : 'time'}, inplace=True)\n",
    "df = df[['time', 'btc_s2f', 'btc_s2f_price']]\n",
    "df['time'] = pd.to_datetime(df['time']).dt.date\n",
    "\n",
    "merge_df = pd.merge(merge_df, df, on = 'time', how = 'left')"
   ]
  },
  {
   "cell_type": "code",
   "execution_count": 11,
   "id": "479e0447",
   "metadata": {},
   "outputs": [],
   "source": [
    "# Merging with NLP results\n",
    "\n",
    "df = pd.read_csv('merged_with_title.csv')\n",
    "df.rename(columns = {'date' : 'time', 'compound' : 'nlp_compound', 'Subjectivity' : 'nlp_subjectivity', 'Polarity' : 'nlp_polarity'}, inplace = True)\n",
    "\n",
    "df['time'] = pd.to_datetime(df['time']).dt.date\n",
    "df = df.groupby('time', dropna = True).mean()[['nlp_compound', 'nlp_subjectivity', 'nlp_polarity']]\n",
    "df.reset_index(inplace = True)\n",
    "\n",
    "merge_df = pd.merge(merge_df, df, on = 'time', how = 'left')"
   ]
  },
  {
   "cell_type": "code",
   "execution_count": 13,
   "id": "d4a832e7",
   "metadata": {},
   "outputs": [],
   "source": [
    "# Merging with Fear & Greed index\n",
    "\n",
    "df = pd.read_csv('fear_greed.csv')\n",
    "df.rename(columns = {'fng_value' : 'time' , 'date' : 'sentiment', 'fng_classification' : 'weight'}, inplace=True)\n",
    "df['time'] = pd.to_datetime(df['time']).dt.date\n",
    "df = pd.get_dummies(df, columns=['sentiment'])\n",
    "\n",
    "df.drop('weight', axis = 1, inplace=True)\n",
    "merge_df = pd.merge(merge_df, df, on = 'time', how = 'left')"
   ]
  },
  {
   "cell_type": "code",
   "execution_count": null,
   "id": "3bab2609",
   "metadata": {},
   "outputs": [],
   "source": [
    "# Drop NA and sort_values\n",
    "merge_df.sort_values('time').dropna().drop_duplicates().reset_index().drop(columns = 'index', inplace = True, axis = 1)"
   ]
  },
  {
   "cell_type": "code",
   "execution_count": null,
   "id": "6c51c852",
   "metadata": {},
   "outputs": [],
   "source": [
    "merge_df"
   ]
  },
  {
   "cell_type": "code",
   "execution_count": 17,
   "id": "139d54e8",
   "metadata": {},
   "outputs": [],
   "source": [
    "# Export csv\n",
    "merge_df.to_csv('aggregated_df_final01oct2021.csv', index = False)"
   ]
  },
  {
   "cell_type": "code",
   "execution_count": null,
   "id": "afc4641a",
   "metadata": {},
   "outputs": [],
   "source": [
    "# Checking the length of raw datasets\n",
    "\n",
    "exchanges = ['COINBASE', 'BINANCE', 'FTX', 'HUOBI', 'KUCOIN']\n",
    "others = ['CRYPTOCAP_BTC.D', 'CRYPTOCAP_ETH.D', 'CRYPTOCAP_TOTAL', 'CRYPTOCAP_TOTAL2', 'BCHAIN_MIREV', 'CURRENCYCOM_SILVER', 'SP_SPX', 'TVC_VIX', 'CURRENCYCOM_GOLD', 'TVC_USOIL']\n",
    "\n",
    "len = 0\n",
    "count = 0\n",
    "len_rows = 0\n",
    "len_col = 0\n",
    "\n",
    "for exchange in exchanges:\n",
    "    file_str_1D = 'datasets/{}_BTCUSDT, 1D.csv'.format(exchange)\n",
    "    df = pd.read_csv(file_str_1D)\n",
    "    len+= df.shape[0]*df.shape[1]\n",
    "    len_rows += df.shape[0]\n",
    "    count += 1\n",
    "len_col += 15\n",
    "\n",
    "for other in others:\n",
    "    file_str_1D = 'datasets/{}, 1D.csv'.format(other)\n",
    "    df = pd.read_csv(file_str_1D)\n",
    "    len+= df.shape[0]*df.shape[1]\n",
    "    len_rows += df.shape[0]\n",
    "    len_col += df.shape[1]\n",
    "    count += 1\n",
    "\n",
    "    \n",
    "df = pd.read_csv('btc.csv')\n",
    "len+= df.shape[0]*df.shape[1]\n",
    "len_rows += df.shape[0]\n",
    "len_col += df.shape[1]\n",
    "count += 1\n",
    "\n",
    "df = pd.read_csv('fear_greed.csv')\n",
    "len+= df.shape[0]*df.shape[1]\n",
    "len_rows += df.shape[0]\n",
    "len_col += df.shape[1]\n",
    "count += 1\n",
    "\n",
    "df = pd.read_csv('crypto_news_parsed_2013-2018_40k.csv')\n",
    "len+= df.shape[0]*df.shape[1]\n",
    "len_rows += df.shape[0]\n",
    "len_col += df.shape[1]\n",
    "count += 1\n",
    "\n",
    "news_twitter = 24239*8\n",
    "twitter = 26119 * 8\n",
    "\n",
    "len += news_twitter + twitter\n",
    "len_rows += 24239 + 26119\n",
    "len_col += 8+8\n",
    "count += 2\n",
    "\n",
    "print(len, len_rows, len_col, count)"
   ]
  },
  {
   "cell_type": "code",
   "execution_count": 34,
   "id": "01c8b4d3",
   "metadata": {},
   "outputs": [],
   "source": [
    "df1 = pd.read_csv('aggregated_df_final01oct2021.csv')"
   ]
  },
  {
   "cell_type": "code",
   "execution_count": 35,
   "id": "87cfe0eb",
   "metadata": {},
   "outputs": [
    {
     "data": {
      "text/plain": [
       "(1488, 30)"
      ]
     },
     "execution_count": 35,
     "metadata": {},
     "output_type": "execute_result"
    }
   ],
   "source": [
    "df1.shape"
   ]
  },
  {
   "cell_type": "code",
   "execution_count": 37,
   "id": "dd77f6dc",
   "metadata": {},
   "outputs": [
    {
     "name": "stdout",
     "output_type": "stream",
     "text": [
      "<class 'pandas.core.frame.DataFrame'>\n",
      "RangeIndex: 1488 entries, 0 to 1487\n",
      "Data columns (total 30 columns):\n",
      " #   Column                   Non-Null Count  Dtype  \n",
      "---  ------                   --------------  -----  \n",
      " 0   time                     1488 non-null   object \n",
      " 1   open_x                   1488 non-null   float64\n",
      " 2   high_x                   1488 non-null   float64\n",
      " 3   low_x                    1488 non-null   float64\n",
      " 4   close_x                  1488 non-null   float64\n",
      " 5   Basis_x                  1469 non-null   float64\n",
      " 6   Volume_x                 1488 non-null   float64\n",
      " 7   RSI_x                    1474 non-null   float64\n",
      " 8   MACD_x                   1463 non-null   float64\n",
      " 9   OnBalanceVolume_x        1487 non-null   float64\n",
      " 10  btc_dom                  1488 non-null   float64\n",
      " 11  eth_dom                  1488 non-null   float64\n",
      " 12  crypto_cap               1488 non-null   float64\n",
      " 13  crypto_cap_exc_BTC       1488 non-null   float64\n",
      " 14  btc_reward               1488 non-null   float64\n",
      " 15  silver_mean              1052 non-null   float64\n",
      " 16  sp500_mean               1024 non-null   float64\n",
      " 17  vix_mean                 1023 non-null   float64\n",
      " 18  gold_mean                1053 non-null   float64\n",
      " 19  us                       1052 non-null   float64\n",
      " 20  btc_s2f                  1488 non-null   float64\n",
      " 21  btc_s2f_price            1488 non-null   float64\n",
      " 22  nlp_compound             1488 non-null   float64\n",
      " 23  nlp_subjectivity         1488 non-null   float64\n",
      " 24  nlp_polarity             1488 non-null   float64\n",
      " 25  sentiment_Extreme Fear   1290 non-null   float64\n",
      " 26  sentiment_Extreme Greed  1290 non-null   float64\n",
      " 27  sentiment_Fear           1290 non-null   float64\n",
      " 28  sentiment_Greed          1290 non-null   float64\n",
      " 29  sentiment_Neutral        1290 non-null   float64\n",
      "dtypes: float64(29), object(1)\n",
      "memory usage: 348.9+ KB\n"
     ]
    }
   ],
   "source": [
    "df1.info()"
   ]
  },
  {
   "cell_type": "code",
   "execution_count": null,
   "id": "2441a527",
   "metadata": {},
   "outputs": [],
   "source": []
  }
 ],
 "metadata": {
  "kernelspec": {
   "display_name": "Python 3",
   "language": "python",
   "name": "python3"
  },
  "language_info": {
   "codemirror_mode": {
    "name": "ipython",
    "version": 3
   },
   "file_extension": ".py",
   "mimetype": "text/x-python",
   "name": "python",
   "nbconvert_exporter": "python",
   "pygments_lexer": "ipython3",
   "version": "3.8.8"
  }
 },
 "nbformat": 4,
 "nbformat_minor": 5
}
